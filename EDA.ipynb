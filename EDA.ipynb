{
 "cells": [
  {
   "cell_type": "markdown",
   "metadata": {},
   "source": [
    "# Greeshma Maske"
   ]
  },
  {
   "cell_type": "markdown",
   "metadata": {},
   "source": [
    "## Perform ‘Exploratory Data Analysis’ on dataset ‘Global Terrorism’"
   ]
  },
  {
   "cell_type": "code",
   "execution_count": null,
   "metadata": {},
   "outputs": [],
   "source": [
    "import folium\n",
    "import plotly.tools as tls \n",
    "import plotly.express as px\n",
    "import plotly.figure_factory as ff\n",
    "from scipy.interpolate import interp1d\n",
    "import plotly.graph_objects as go\n",
    "import matplotlib.pyplot as plt \n",
    "import cufflinks as cf\n",
    "import numpy as np \n",
    "import pandas as pd\n",
    "import seaborn as sns\n",
    "\n",
    "url = \"global_terror_2.csv\"\n",
    "df = pd.read_csv(url, encoding = \"ISO-8859-1\")\n",
    "df.head()"
   ]
  },
  {
   "cell_type": "code",
   "execution_count": null,
   "metadata": {},
   "outputs": [],
   "source": [
    "df70 = df.filter([\"region_txt\", \"nkill\", \"iyear\"], axis=1)\n",
    "df70 = df70[df70['nkill']!=-1]\n",
    "count_series = df70.groupby(['iyear', 'region_txt'])['nkill'].sum()\n",
    "df71 = count_series.to_frame(name = 'kills').reset_index()\n",
    "fig10 = px.bar(df71, y=\"region_txt\", x=\"kills\", animation_frame=\"iyear\", \n",
    "                color=\"region_txt\", hover_name=\"region_txt\", hover_data=['iyear', 'kills'],\n",
    "            labels={'iyear' : 'Year', 'region_txt' : 'Region', 'kills' : 'Fatalities'},\n",
    "            width=1000, orientation='h')\n",
    "fig10[\"layout\"].pop(\"updatemenus\")\n",
    "fig10.update_layout(\n",
    "    title={\"text\" : \"People Killed According to Region\", 'x' : 0.5, 'y' : 0.95},\n",
    "    font=dict(size=14),\n",
    "    legend = dict(font = dict(size=14))\n",
    "    )\n",
    "fig10.show()"
   ]
  },
  {
   "cell_type": "code",
   "execution_count": null,
   "metadata": {},
   "outputs": [],
   "source": [
    "df['freq'] = df.groupby('region_txt')['region_txt'].transform('count')\n",
    "dfr = df.filter(['region_txt', 'freq']).drop_duplicates()\n",
    "r=dfr['region_txt'].values.reshape(4, 3)\n",
    "fr=dfr['freq'].values.reshape(4, 3)\n",
    "fig3 = ff.create_annotated_heatmap(fr, annotation_text=r, colorscale='Viridis', hoverinfo='z', showscale=True)\n",
    "fig3.update_layout(\n",
    "    title={\"text\" : \"Region-Wise Concentration of Attacks using Heatmap\", 'x' : 0.5, 'y' : 0.93},\n",
    "    font=dict(size=18),\n",
    "    )\n",
    "fig3.show()"
   ]
  },
  {
   "cell_type": "code",
   "execution_count": null,
   "metadata": {},
   "outputs": [],
   "source": [
    "fig4 = px.scatter_geo(df, lat='latitude', lon='longitude',\n",
    "                        hover_name=\"country_txt\", hover_data=['iyear', 'city'],\n",
    "                        labels={'iyear':'Year', 'city': 'City', 'latitude':'Latitude', 'longitude':'Longitude'},\n",
    "                        animation_frame=\"iyear\", color = \"region_txt\",\n",
    "                        projection=\"natural earth\")\n",
    "fig4.update_layout(\n",
    "    title={\"text\" : \"Global Terrorism History using ScatterGeo Plot\", 'x' : 0.5, 'y' : 0.98},\n",
    "    font=dict(size=14),\n",
    "    )\n",
    "fig4.show()"
   ]
  },
  {
   "cell_type": "code",
   "execution_count": null,
   "metadata": {},
   "outputs": [],
   "source": [
    "df42 = df.filter([\"attacktype1_txt\", \"iyear\"], axis=1)\n",
    "count_series = df42.groupby(['attacktype1_txt'])['iyear'].count().sort_values(ascending=False)\n",
    "df43 = count_series.to_frame(name = 'a').reset_index()\n",
    "fig43 = px.bar(df43, y=\"a\", x=\"attacktype1_txt\", labels={'a' : 'No. of Attacks', 'attacktype1_txt' : 'Attack Type'})\n",
    "fig43.update_layout(\n",
    "    title={\"text\" : \"Types of Attacks\", 'x' : 0.5, 'y' : 0.95},\n",
    "    font=dict(size=14),\n",
    "    legend = dict(font = dict(size=14))\n",
    "    )\n",
    "fig43.show()"
   ]
  },
  {
   "cell_type": "code",
   "execution_count": null,
   "metadata": {},
   "outputs": [],
   "source": [
    "df40 = df.filter([\"targtype1_txt\", \"iyear\"], axis=1)\n",
    "count_series = df40.groupby(['targtype1_txt'])['iyear'].count()\n",
    "df40 = count_series.to_frame(name = 'target').reset_index()\n",
    "fig40 = px.pie(df40, values='target', names='targtype1_txt', labels={'target':'No. of attacks', 'targtype1_txt': 'Target'},\n",
    "            title='Types of Attack Targets', hole=.3)\n",
    "fig40.update_traces(textposition='inside', textinfo='percent+label')\n",
    "fig40.show()"
   ]
  },
  {
   "cell_type": "code",
   "execution_count": null,
   "metadata": {},
   "outputs": [],
   "source": [
    "df42 = df.filter([\"weaptype1_txt\", \"iyear\"], axis=1)\n",
    "count_series = df42.groupby(['weaptype1_txt'])['iyear'].count()\n",
    "df43 = count_series.to_frame(name = 'weap').reset_index()\n",
    "fig42 = px.pie(df43, values='weap', names='weaptype1_txt', labels={'weap':'No. of times weapon used', 'weaptype1_txt': 'Weapon type'},\n",
    "            title='Types of Weapons used in Attacks', hole=.3)\n",
    "fig42.update_traces(textposition='inside', textinfo='percent+label')\n",
    "fig42.show()"
   ]
  },
  {
   "cell_type": "code",
   "execution_count": null,
   "metadata": {},
   "outputs": [],
   "source": [
    "df41 = df.filter([\"region_txt\", \"iyear\"], axis=1)\n",
    "count_series = df41.groupby(['region_txt'])['iyear'].count().sort_values(ascending=False)\n",
    "df41 = count_series.to_frame(name = 'r').reset_index()\n",
    "fig41 = px.bar(df41, y=\"r\", x=\"region_txt\", labels={'r' : 'No. of Attacks', 'region_txt' : 'Region'})\n",
    "fig41.update_layout(\n",
    "    title={\"text\" : \"Terrorism Hotspots of the World (Continent-Wise)\", 'x' : 0.5, 'y' : 0.95},\n",
    "    font=dict(size=14),\n",
    "    legend = dict(font = dict(size=14))\n",
    "    )\n",
    "fig41.show()"
   ]
  },
  {
   "cell_type": "code",
   "execution_count": null,
   "metadata": {},
   "outputs": [],
   "source": [
    "df42 = df.filter([\"country_txt\", \"iyear\"], axis=1)\n",
    "count_series = df42.groupby(['country_txt'])['iyear'].count()\n",
    "df43 = count_series.to_frame(name = 'c').reset_index()\n",
    "df43 = df43.nlargest(10, 'c')\n",
    "fig43 = px.bar(df43, y=\"c\", x=\"country_txt\", labels={'c' : 'No. of Attacks', 'country_txt' : 'Country'})\n",
    "fig43.update_layout(\n",
    "    title={\"text\" : \"Terrorism Hotspots of the World (Country-Wise)\", 'x' : 0.5, 'y' : 0.95},\n",
    "    font=dict(size=14),\n",
    "    legend = dict(font = dict(size=14))\n",
    "    )\n",
    "fig43.show()"
   ]
  },
  {
   "cell_type": "code",
   "execution_count": null,
   "metadata": {},
   "outputs": [],
   "source": []
  }
 ],
 "metadata": {
  "kernelspec": {
   "display_name": "Python 3",
   "language": "python",
   "name": "python3"
  },
  "language_info": {
   "codemirror_mode": {
    "name": "ipython",
    "version": 3
   },
   "file_extension": ".py",
   "mimetype": "text/x-python",
   "name": "python",
   "nbconvert_exporter": "python",
   "pygments_lexer": "ipython3",
   "version": "3.7.3"
  }
 },
 "nbformat": 4,
 "nbformat_minor": 4
}
