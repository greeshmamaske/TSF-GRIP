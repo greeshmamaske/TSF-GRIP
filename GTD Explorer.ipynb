{
 "cells": [
  {
   "cell_type": "code",
   "execution_count": 1,
   "metadata": {
    "scrolled": false
   },
   "outputs": [
    {
     "name": "stderr",
     "output_type": "stream",
     "text": [
      " * Running on http://127.0.0.1:8050/ (Press CTRL+C to quit)\n",
      "127.0.0.1 - - [17/Dec/2020 00:13:34] \"\u001b[37mGET /_alive_ee6e237c-fe6d-4e0d-ba0b-983c4ff3c25b HTTP/1.1\u001b[0m\" 200 -\n"
     ]
    },
    {
     "name": "stdout",
     "output_type": "stream",
     "text": [
      "Dash app running on http://127.0.0.1:8050/\n"
     ]
    },
    {
     "name": "stderr",
     "output_type": "stream",
     "text": [
      "127.0.0.1 - - [17/Dec/2020 00:15:39] \"\u001b[37mGET / HTTP/1.1\u001b[0m\" 200 -\n",
      "127.0.0.1 - - [17/Dec/2020 00:15:39] \"\u001b[37mGET /_dash-dependencies HTTP/1.1\u001b[0m\" 200 -\n",
      "127.0.0.1 - - [17/Dec/2020 00:15:39] \"\u001b[37mGET /_dash-layout HTTP/1.1\u001b[0m\" 200 -\n",
      "127.0.0.1 - - [17/Dec/2020 00:15:42] \"\u001b[37mPOST /_dash-update-component HTTP/1.1\u001b[0m\" 200 -\n",
      "127.0.0.1 - - [17/Dec/2020 00:16:01] \"\u001b[37mPOST /_dash-update-component HTTP/1.1\u001b[0m\" 200 -\n",
      "127.0.0.1 - - [17/Dec/2020 00:16:01] \"\u001b[37mPOST /_dash-update-component HTTP/1.1\u001b[0m\" 200 -\n",
      "127.0.0.1 - - [17/Dec/2020 00:16:01] \"\u001b[37mPOST /_dash-update-component HTTP/1.1\u001b[0m\" 200 -\n",
      "127.0.0.1 - - [17/Dec/2020 00:16:01] \"\u001b[37mPOST /_dash-update-component HTTP/1.1\u001b[0m\" 200 -\n",
      "127.0.0.1 - - [17/Dec/2020 00:16:02] \"\u001b[37mPOST /_dash-update-component HTTP/1.1\u001b[0m\" 200 -\n",
      "127.0.0.1 - - [17/Dec/2020 00:16:10] \"\u001b[37mPOST /_dash-update-component HTTP/1.1\u001b[0m\" 200 -\n",
      "127.0.0.1 - - [17/Dec/2020 00:16:11] \"\u001b[37mPOST /_dash-update-component HTTP/1.1\u001b[0m\" 200 -\n",
      "127.0.0.1 - - [17/Dec/2020 00:16:11] \"\u001b[37mPOST /_dash-update-component HTTP/1.1\u001b[0m\" 200 -\n",
      "127.0.0.1 - - [17/Dec/2020 00:16:11] \"\u001b[37mPOST /_dash-update-component HTTP/1.1\u001b[0m\" 200 -\n"
     ]
    }
   ],
   "source": [
    "import plotly.express as px\n",
    "import pandas as pd\n",
    "from jupyter_dash import JupyterDash\n",
    "import dash_core_components as dcc\n",
    "import dash_html_components as html\n",
    "from dash.dependencies import Input, Output\n",
    "\n",
    "url = \"global_terror_2.csv\"\n",
    "df = pd.read_csv(url, encoding = \"ISO-8859-1\")\n",
    "\n",
    "app = JupyterDash(__name__)\n",
    "\n",
    "filter_options = ['Property Damage', 'Target Nationality', 'Target Type', 'Type of Attack', 'Weapon Type', 'Region', 'Country']\n",
    "df['Attacks'] = df.groupby(['country_txt', 'iyear'])['country_txt'].transform('count')\n",
    "dfr = df.filter(['country_txt', 'Attacks', 'iyear']).drop_duplicates()\n",
    "fig50 = px.area(dfr, x=\"iyear\", y=\"Attacks\", color=\"country_txt\", line_group=\"country_txt\")\n",
    "\n",
    "app.layout = html.Div([\n",
    "      html.Div(style={'backgroundColor': '#FFFFFF'}, children=[\n",
    "                    html.H1(style={'textAlign': 'center', 'color': '#000000', 'textDecoration': 'underline', 'marginTop': '20px'}, children='Global Terrorism Database Explorer'),\n",
    "                    html.Br(),\n",
    "                    html.Div(style={'width': '80%'}, children=[\n",
    "\n",
    "                        html.Div(style={'width': '100%', 'display': 'flex', 'textAlign': 'center', 'marginLeft': '350px'}, children=[\n",
    "                            html.Label('Incidents per Year Grouped by ', style={'color' : '\t#000000', 'fontSize': '30px', 'textAlign': 'center', 'float': 'left'}),\n",
    "                            dcc.Dropdown(\n",
    "                                id='filter',\n",
    "                                options=[{'label': j, 'value': i} for i, j in enumerate(filter_options)],\n",
    "                                value=6,\n",
    "                                clearable=False,\n",
    "                                style={'width': '250px', 'marginLeft': '10px', 'marginTop': '3px'}\n",
    "                            ),\n",
    "                        ]),\n",
    "\n",
    "\n",
    "                        dcc.Graph(id='plots3', figure=fig50, style={'width': 1300, 'height': 600}),\n",
    "\n",
    "\n",
    "                        html.Div(style={'width': '40%', 'display': 'inline-block', 'textAlign': 'center', 'marginLeft': '450px'}, children=[\n",
    "                            dcc.Input(id='searchtext', style={'color' : '#000000', 'textAlign': 'center',  'width': '300px'}, placeholder='Enter filter text.'),\n",
    "                            html.Div(id='msg', children=\"\")\n",
    "                        ]),\n",
    "\n",
    "                        html.Br(),\n",
    "                        html.Br(),\n",
    "                        html.Br(),\n",
    "\n",
    "                        html.Div(style={'marginLeft': '250px', 'marginBottom': '40px'}, children=[\n",
    "                            dcc.RangeSlider(\n",
    "                                id='yearslider',\n",
    "                                min=1970,\n",
    "                                max=2018,\n",
    "                                value=[1970, 2018],\n",
    "                                marks={str(i): str(i) for i in range(1970, 2019, 5)},\n",
    "                                allowCross=False,\n",
    "\n",
    "                                )\n",
    "                            ]),\n",
    "\n",
    "                        html.Br(),\n",
    "\n",
    "                        ]),\n",
    "                    ]),\n",
    "])\n",
    "\n",
    "@app.callback(\n",
    "        [Output('plots3', 'figure'),\n",
    "        Output('msg', 'children')],\n",
    "        [Input('filter', 'value'),\n",
    "        Input('yearslider', 'value'),\n",
    "        Input('searchtext', 'value')]\n",
    "    )\n",
    "\n",
    "def update_graph(fvalue, yrange, search):\n",
    "    if fvalue==None:\n",
    "        return None\n",
    "    min=yrange[0]\n",
    "    max=yrange[1]\n",
    "    msg=\"\"\n",
    "    group = ['propextent_txt', 'natlty1_txt', 'targtype1_txt', 'attacktype1_txt', 'weaptype1_txt', 'region_txt', 'country_txt']\n",
    "    data = df[df[group[fvalue]].notnull()]\n",
    "    data['Attacks'] = data.groupby([group[fvalue], 'iyear'])[group[fvalue]].transform('count')\n",
    "    data = data.filter([group[fvalue], 'Attacks', 'iyear']).drop_duplicates()\n",
    "    data=data[(data['iyear']>=min) & (data['iyear']<=max)]\n",
    "    if search!=None:\n",
    "        dfr=data[data.iloc[:, 0].str.contains('^'+search, case=False, regex=True)]\n",
    "        if dfr.empty==True:\n",
    "            msg=\"No matches found!\"\n",
    "        else:\n",
    "            data=dfr\n",
    "    fig50 = px.area(data, x=\"iyear\", y=\"Attacks\", color=group[fvalue], line_group=group[fvalue])\n",
    "    return fig50, msg\n",
    "\n",
    "# Run app and display result inline in the notebook\n",
    "app.run_server(mode='external', debug=False)\n"
   ]
  },
  {
   "cell_type": "code",
   "execution_count": null,
   "metadata": {},
   "outputs": [],
   "source": []
  }
 ],
 "metadata": {
  "kernelspec": {
   "display_name": "Python 3",
   "language": "python",
   "name": "python3"
  },
  "language_info": {
   "codemirror_mode": {
    "name": "ipython",
    "version": 3
   },
   "file_extension": ".py",
   "mimetype": "text/x-python",
   "name": "python",
   "nbconvert_exporter": "python",
   "pygments_lexer": "ipython3",
   "version": "3.7.3"
  }
 },
 "nbformat": 4,
 "nbformat_minor": 4
}
